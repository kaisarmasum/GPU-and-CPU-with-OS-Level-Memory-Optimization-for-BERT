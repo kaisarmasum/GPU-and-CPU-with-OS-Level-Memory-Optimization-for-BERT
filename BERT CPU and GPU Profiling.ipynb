{
 "cells": [
  {
   "cell_type": "code",
   "execution_count": 2,
   "id": "2785615e-20e4-4281-bb53-03c2e7d0d8ba",
   "metadata": {},
   "outputs": [
    {
     "name": "stderr",
     "output_type": "stream",
     "text": [
      "C:\\Users\\abuka\\anaconda3\\envs\\torch\\Lib\\site-packages\\tqdm\\auto.py:21: TqdmWarning: IProgress not found. Please update jupyter and ipywidgets. See https://ipywidgets.readthedocs.io/en/stable/user_install.html\n",
      "  from .autonotebook import tqdm as notebook_tqdm\n"
     ]
    }
   ],
   "source": [
    "import os\n",
    "import torch\n",
    "from torch import nn\n",
    "from torch.utils.data import DataLoader, Dataset\n",
    "from transformers import BertTokenizer, BertModel, AdamW, get_linear_schedule_with_warmup\n",
    "from sklearn.model_selection import train_test_split\n",
    "from sklearn.metrics import accuracy_score, classification_report\n",
    "import pandas as pd"
   ]
  },
  {
   "cell_type": "code",
   "execution_count": 11,
   "id": "1260c728-9a69-486d-ac68-696e069fe896",
   "metadata": {},
   "outputs": [
    {
     "name": "stdout",
     "output_type": "stream",
     "text": [
      "Warning: Looks like you're using an outdated `kagglehub` version (installed: 0.3.6), please consider upgrading to the latest version (0.3.7).\n",
      "Downloading from https://www.kaggle.com/api/v1/datasets/download/lakshmi25npathi/imdb-dataset-of-50k-movie-reviews?dataset_version_number=1...\n"
     ]
    },
    {
     "name": "stderr",
     "output_type": "stream",
     "text": [
      "100%|██████████████████████████████████████████████████████████████████████████████| 25.7M/25.7M [00:58<00:00, 460kB/s]"
     ]
    },
    {
     "name": "stdout",
     "output_type": "stream",
     "text": [
      "Extracting files...\n"
     ]
    },
    {
     "name": "stderr",
     "output_type": "stream",
     "text": [
      "\n"
     ]
    },
    {
     "name": "stdout",
     "output_type": "stream",
     "text": [
      "Path to dataset files: C:\\Users\\abuka\\.cache\\kagglehub\\datasets\\lakshmi25npathi\\imdb-dataset-of-50k-movie-reviews\\versions\\1\n"
     ]
    }
   ],
   "source": [
    "import kagglehub\n",
    "\n",
    "# Download latest version\n",
    "path = kagglehub.dataset_download(\"lakshmi25npathi/imdb-dataset-of-50k-movie-reviews\")\n",
    "\n",
    "print(\"Path to dataset files:\", path)"
   ]
  },
  {
   "cell_type": "code",
   "execution_count": 3,
   "id": "a11867ff-acd3-4f8a-9c53-9b45404e9c08",
   "metadata": {},
   "outputs": [
    {
     "name": "stderr",
     "output_type": "stream",
     "text": [
      "C:\\Users\\abuka\\anaconda3\\envs\\torch\\Lib\\site-packages\\huggingface_hub\\file_download.py:139: UserWarning: `huggingface_hub` cache-system uses symlinks by default to efficiently store duplicated files but your machine does not support them in C:\\Users\\abuka\\.cache\\huggingface\\hub\\models--bert-base-uncased. Caching files will still work but in a degraded version that might require more space on your disk. This warning can be disabled by setting the `HF_HUB_DISABLE_SYMLINKS_WARNING` environment variable. For more details, see https://huggingface.co/docs/huggingface_hub/how-to-cache#limitations.\n",
      "To support symlinks on Windows, you either need to activate Developer Mode or to run Python as an administrator. In order to activate developer mode, see this article: https://docs.microsoft.com/en-us/windows/apps/get-started/enable-your-device-for-development\n",
      "  warnings.warn(message)\n",
      "C:\\Users\\abuka\\anaconda3\\envs\\torch\\Lib\\site-packages\\transformers\\optimization.py:591: FutureWarning: This implementation of AdamW is deprecated and will be removed in a future version. Use the PyTorch implementation torch.optim.AdamW instead, or set `no_deprecation_warning=True` to disable this warning\n",
      "  warnings.warn(\n"
     ]
    },
    {
     "name": "stdout",
     "output_type": "stream",
     "text": [
      "Epoch 1/4\n",
      "Validation Accuracy: 0.8851\n",
      "              precision    recall  f1-score   support\n",
      "\n",
      "           0       0.93      0.83      0.88      4961\n",
      "           1       0.85      0.94      0.89      5039\n",
      "\n",
      "    accuracy                           0.89     10000\n",
      "   macro avg       0.89      0.88      0.88     10000\n",
      "weighted avg       0.89      0.89      0.88     10000\n",
      "\n",
      "Epoch 2/4\n",
      "Validation Accuracy: 0.8934\n",
      "              precision    recall  f1-score   support\n",
      "\n",
      "           0       0.94      0.84      0.89      4961\n",
      "           1       0.86      0.94      0.90      5039\n",
      "\n",
      "    accuracy                           0.89     10000\n",
      "   macro avg       0.90      0.89      0.89     10000\n",
      "weighted avg       0.90      0.89      0.89     10000\n",
      "\n",
      "Epoch 3/4\n",
      "Validation Accuracy: 0.8970\n",
      "              precision    recall  f1-score   support\n",
      "\n",
      "           0       0.89      0.90      0.90      4961\n",
      "           1       0.90      0.89      0.90      5039\n",
      "\n",
      "    accuracy                           0.90     10000\n",
      "   macro avg       0.90      0.90      0.90     10000\n",
      "weighted avg       0.90      0.90      0.90     10000\n",
      "\n",
      "Epoch 4/4\n",
      "Validation Accuracy: 0.8978\n",
      "              precision    recall  f1-score   support\n",
      "\n",
      "           0       0.90      0.90      0.90      4961\n",
      "           1       0.90      0.90      0.90      5039\n",
      "\n",
      "    accuracy                           0.90     10000\n",
      "   macro avg       0.90      0.90      0.90     10000\n",
      "weighted avg       0.90      0.90      0.90     10000\n",
      "\n"
     ]
    }
   ],
   "source": [
    "def load_imdb_data(data_file):\n",
    "    df = pd.read_csv(data_file)\n",
    "    texts = df['review'].tolist()\n",
    "    labels = [1 if sentiment == \"positive\" else 0 for sentiment in df['sentiment'].tolist()]\n",
    "    return texts, labels\n",
    "\n",
    "data_file = \"/Users/abuka/.cache/kagglehub/datasets/lakshmi25npathi/imdb-dataset-of-50k-movie-reviews/versions/1/IMDB Dataset.csv\"\n",
    "texts, labels = load_imdb_data(data_file)\n",
    "\n",
    "class TextClassificationDataset(Dataset):\n",
    "\n",
    "    def __init__(self, texts, labels, tokenizer, max_length):\n",
    "        self.texts = texts\n",
    "        self.labels = labels\n",
    "        self.tokenizer = tokenizer\n",
    "        self.max_length = max_length\n",
    "\n",
    "    def __len__(self):\n",
    "        return len(self.texts)\n",
    "\n",
    "    def __getitem__(self, idx):\n",
    "        text = self.texts[idx]\n",
    "        label = self.labels[idx]\n",
    "        encoding = self.tokenizer(text, return_tensors='pt', max_length=self.max_length, padding='max_length', truncation=True)\n",
    "        return {'input_ids': encoding['input_ids'].flatten(), 'attention_mask': encoding['attention_mask'].flatten(), 'label': torch.tensor(label)}\n",
    "\n",
    "class BERTClassifier(nn.Module):\n",
    "    def __init__(self, bert_model_name, num_classes):\n",
    "        super(BERTClassifier, self).__init__()\n",
    "        self.bert = BertModel.from_pretrained(bert_model_name)\n",
    "        self.dropout = nn.Dropout(0.1)\n",
    "        self.fc = nn.Linear(self.bert.config.hidden_size, num_classes)\n",
    "\n",
    "    def forward(self, input_ids, attention_mask):\n",
    "        outputs = self.bert(input_ids=input_ids, attention_mask=attention_mask)\n",
    "        pooled_output = outputs.pooler_output\n",
    "        x = self.dropout(pooled_output)\n",
    "        logits = self.fc(x)\n",
    "        return logits\n",
    "\n",
    "def train(model, data_loader, optimizer, scheduler, device):\n",
    "    model.train()\n",
    "    for batch in data_loader:\n",
    "        optimizer.zero_grad()\n",
    "        input_ids = batch['input_ids'].to(device)\n",
    "        attention_mask = batch['attention_mask'].to(device)\n",
    "        labels = batch['label'].to(device)\n",
    "        outputs = model(input_ids=input_ids, attention_mask=attention_mask)\n",
    "        loss = nn.CrossEntropyLoss()(outputs, labels)\n",
    "        loss.backward()\n",
    "        optimizer.step()\n",
    "        scheduler.step()\n",
    "\n",
    "def evaluate(model, data_loader, device):\n",
    "    model.eval()\n",
    "    predictions = []\n",
    "    actual_labels = []\n",
    "    with torch.no_grad():\n",
    "        for batch in data_loader:\n",
    "            input_ids = batch['input_ids'].to(device)\n",
    "            attention_mask = batch['attention_mask'].to(device)\n",
    "            labels = batch['label'].to(device)\n",
    "            outputs = model(input_ids=input_ids, attention_mask=attention_mask)\n",
    "            _, preds = torch.max(outputs, dim=1)\n",
    "            predictions.extend(preds.cpu().tolist())\n",
    "            actual_labels.extend(labels.cpu().tolist())\n",
    "    return accuracy_score(actual_labels, predictions), classification_report(actual_labels, predictions)\n",
    "\n",
    "def predict_sentiment(text, model, tokenizer, device, max_length=128):\n",
    "    model.eval()\n",
    "    encoding = tokenizer(text, return_tensors='pt', max_length=max_length, padding='max_length', truncation=True)\n",
    "    input_ids = encoding['input_ids'].to(device)\n",
    "    attention_mask = encoding['attention_mask'].to(device)\n",
    "\n",
    "    with torch.no_grad():\n",
    "        outputs = model(input_ids=input_ids, attention_mask=attention_mask)\n",
    "        _, preds = torch.max(outputs, dim=1)\n",
    "    return \"positive\" if preds.item() == 1 else \"negative\"\n",
    "\n",
    "\n",
    "# Set up parameters\n",
    "bert_model_name = 'bert-base-uncased'\n",
    "num_classes = 2\n",
    "max_length = 128\n",
    "batch_size = 16\n",
    "num_epochs = 4\n",
    "learning_rate = 2e-5\n",
    "\n",
    "train_texts, val_texts, train_labels, val_labels = train_test_split(texts, labels, test_size=0.2, random_state=42)\n",
    "tokenizer = BertTokenizer.from_pretrained(bert_model_name)\n",
    "train_dataset = TextClassificationDataset(train_texts, train_labels, tokenizer, max_length)\n",
    "val_dataset = TextClassificationDataset(val_texts, val_labels, tokenizer, max_length)\n",
    "train_dataloader = DataLoader(train_dataset, batch_size=batch_size, shuffle=True)\n",
    "val_dataloader = DataLoader(val_dataset, batch_size=batch_size)\n",
    "\n",
    "device = torch.device(\"cuda\" if torch.cuda.is_available() else \"cpu\")\n",
    "model = BERTClassifier(bert_model_name, num_classes).to(device)\n",
    "\n",
    "optimizer = AdamW(model.parameters(), lr=learning_rate)\n",
    "total_steps = len(train_dataloader) * num_epochs\n",
    "scheduler = get_linear_schedule_with_warmup(optimizer, num_warmup_steps=0, num_training_steps=total_steps)\n",
    "\n",
    "for epoch in range(num_epochs):\n",
    "    print(f\"Epoch {epoch + 1}/{num_epochs}\")\n",
    "    train(model, train_dataloader, optimizer, scheduler, device)\n",
    "    accuracy, report = evaluate(model, val_dataloader, device)\n",
    "    print(f\"Validation Accuracy: {accuracy:.4f}\")\n",
    "    print(report)\n",
    "\n",
    "torch.save(model.state_dict(), \"bert_text_classifier.pth\")"
   ]
  },
  {
   "cell_type": "code",
   "execution_count": 4,
   "id": "f67328fb-30e6-43a9-9f50-8cfa62c82c8e",
   "metadata": {},
   "outputs": [
    {
     "name": "stdout",
     "output_type": "stream",
     "text": [
      "The movie was great and I really enjoyed the performances of the actors.\n",
      "Predicted sentiment: positive\n"
     ]
    }
   ],
   "source": [
    "# Test sentiment prediction\n",
    "test_text = \"The movie was great and I really enjoyed the performances of the actors.\"\n",
    "sentiment = predict_sentiment(test_text, model, tokenizer, device)\n",
    "print(\"The movie was great and I really enjoyed the performances of the actors.\")\n",
    "print(f\"Predicted sentiment: {sentiment}\")"
   ]
  },
  {
   "cell_type": "code",
   "execution_count": 5,
   "id": "1b2b66d5-1a8d-4734-8fc7-e85476a73f68",
   "metadata": {},
   "outputs": [],
   "source": [
    "import torch\n",
    "import torchvision.models as models\n",
    "from torch.profiler import profile, record_function, ProfilerActivity"
   ]
  },
  {
   "cell_type": "code",
   "execution_count": 13,
   "id": "f0f1cf6c-de11-435b-ae5e-ef0342159ac8",
   "metadata": {},
   "outputs": [
    {
     "name": "stdout",
     "output_type": "stream",
     "text": [
      "-------------------------------------------------  ------------  ------------  ------------  ------------  ------------  ------------  \n",
      "                                             Name    Self CPU %      Self CPU   CPU total %     CPU total  CPU time avg    # of Calls  \n",
      "-------------------------------------------------  ------------  ------------  ------------  ------------  ------------  ------------  \n",
      "                                  model_inference        32.54%       5.468ms       100.00%      16.806ms      16.806ms             1  \n",
      "                                     aten::linear         5.94%     998.300us        41.24%       6.932ms      93.669us            74  \n",
      "                                      aten::addmm        25.18%       4.232ms        25.18%       4.232ms      57.184us            74  \n",
      "                                 aten::layer_norm         0.43%      71.600us         6.55%       1.102ms      44.064us            25  \n",
      "                          aten::native_layer_norm         4.81%     808.000us         6.13%       1.030ms      41.200us            25  \n",
      "               aten::scaled_dot_product_attention         0.85%     142.100us         5.82%     977.400us      81.450us            12  \n",
      "                                          aten::t         3.92%     659.100us         5.61%     943.000us      12.743us            74  \n",
      "    aten::_scaled_dot_product_efficient_attention         1.49%     249.800us         4.97%     835.300us      69.608us            12  \n",
      "                                       aten::view         4.33%     726.900us         4.33%     726.900us       2.931us           248  \n",
      "                                        aten::add         4.30%     722.800us         4.30%     722.800us      28.912us            25  \n",
      "-------------------------------------------------  ------------  ------------  ------------  ------------  ------------  ------------  \n",
      "Self CPU time total: 16.806ms\n",
      "\n"
     ]
    }
   ],
   "source": [
    "# Ensure your model is on the same device as the inputs\n",
    "device = torch.device(\"cuda\" if torch.cuda.is_available() else \"cpu\")\n",
    "model = model.to(device)\n",
    "\n",
    "# Tokenize the inputs and create the attention mask\n",
    "inputs = \"The movie was great and I really enjoyed the performances of the actors.\"\n",
    "encoding = tokenizer(inputs, return_tensors='pt', padding=True, truncation=True)\n",
    "\n",
    "# Move the tokenized inputs to the same device as the model\n",
    "input_ids = encoding['input_ids'].to(device)\n",
    "attention_mask = encoding['attention_mask'].to(device)\n",
    "\n",
    "# Explicitly pass only 'input_ids' and 'attention_mask' to the model\n",
    "with profile(activities=[ProfilerActivity.CPU], record_shapes=True) as prof:\n",
    "    with record_function(\"model_inference\"):\n",
    "        model(input_ids=input_ids, attention_mask=attention_mask)\n",
    "\n",
    "print(prof.key_averages().table(sort_by=\"cpu_time_total\", row_limit=10))"
   ]
  },
  {
   "cell_type": "code",
   "execution_count": 7,
   "id": "93b46f03-c553-4fcf-9d6e-0c14a54b5816",
   "metadata": {},
   "outputs": [
    {
     "name": "stderr",
     "output_type": "stream",
     "text": [
      "Some weights of BertForSequenceClassification were not initialized from the model checkpoint at bert-base-uncased and are newly initialized: ['classifier.bias', 'classifier.weight']\n",
      "You should probably TRAIN this model on a down-stream task to be able to use it for predictions and inference.\n"
     ]
    },
    {
     "name": "stdout",
     "output_type": "stream",
     "text": [
      "-------------------------------------------------  ------------  ------------  ------------  ------------  ------------  ------------  ------------  ------------  ------------  ------------  \n",
      "                                             Name    Self CPU %      Self CPU   CPU total %     CPU total  CPU time avg     Self CUDA   Self CUDA %    CUDA total  CUDA time avg    # of Calls  \n",
      "-------------------------------------------------  ------------  ------------  ------------  ------------  ------------  ------------  ------------  ------------  ------------  ------------  \n",
      "                                  model_inference        19.81%      10.345ms       100.00%      52.221ms      52.221ms       5.472ms         7.40%      73.902ms      73.902ms             1  \n",
      "                                     aten::linear        12.60%       6.581ms        31.10%      16.240ms     219.464us       2.601ms         3.52%      56.867ms     768.473us            74  \n",
      "                                      aten::addmm         9.71%       5.069ms         9.71%       5.069ms      68.504us      47.811ms        64.70%      47.811ms     646.095us            74  \n",
      "                                 aten::layer_norm         0.81%     422.600us         6.74%       3.518ms     140.720us       2.135ms         2.89%       4.966ms     198.640us            25  \n",
      "               aten::scaled_dot_product_attention         0.78%     406.200us         6.41%       3.345ms     278.767us      95.000us         0.13%       3.867ms     322.250us            12  \n",
      "    aten::_scaled_dot_product_efficient_attention         2.10%       1.094ms         5.63%       2.939ms     244.917us     396.000us         0.54%       3.772ms     314.333us            12  \n",
      "                                          aten::t         2.97%       1.549ms         5.78%       3.016ms      40.755us       1.502ms         2.03%       3.225ms      43.581us            74  \n",
      "                                    aten::reshape         3.00%       1.564ms         3.22%       1.682ms      19.337us       2.699ms         3.65%       3.219ms      37.000us            87  \n",
      "                                  aten::transpose         4.47%       2.336ms         4.73%       2.469ms      18.426us       1.510ms         2.04%       3.178ms      23.716us           134  \n",
      "                          aten::native_layer_norm         5.43%       2.837ms         5.93%       3.095ms     123.816us       1.894ms         2.56%       2.831ms     113.240us            25  \n",
      "               aten::_efficient_attention_forward         1.72%     900.600us         1.94%       1.013ms      84.417us       1.463ms         1.98%       2.056ms     171.333us            12  \n",
      "                                 aten::as_strided         0.35%     184.600us         0.35%     184.600us       1.037us       1.837ms         2.49%       1.837ms      10.320us           178  \n",
      "                                      aten::empty         0.62%     323.400us         0.62%     323.400us       2.567us       1.377ms         1.86%       1.377ms      10.929us           126  \n",
      "                                       aten::view         0.63%     327.800us         0.63%     327.800us       1.322us       1.125ms         1.52%       1.125ms       4.536us           248  \n",
      "                                  aten::embedding         0.25%     129.400us         0.63%     328.300us     109.433us      73.000us         0.10%     509.000us     169.667us             3  \n",
      "-------------------------------------------------  ------------  ------------  ------------  ------------  ------------  ------------  ------------  ------------  ------------  ------------  \n",
      "Self CPU time total: 52.221ms\n",
      "Self CUDA time total: 73.902ms\n",
      "\n"
     ]
    }
   ],
   "source": [
    "import torch\n",
    "from torch.profiler import profile, record_function, ProfilerActivity\n",
    "from transformers import BertTokenizer, BertForSequenceClassification\n",
    "\n",
    "# ------------------------\n",
    "# Setup\n",
    "# ------------------------\n",
    "tokenizer = BertTokenizer.from_pretrained('bert-base-uncased')\n",
    "model = BertForSequenceClassification.from_pretrained('bert-base-uncased', num_labels=2)\n",
    "device = torch.device(\"cuda\" if torch.cuda.is_available() else \"cpu\")\n",
    "model.to(device)\n",
    "model.eval()\n",
    "\n",
    "# Simulate OS scheduling (tune based on CPU core count)\n",
    "torch.set_num_threads(4)  # OS-level CPU parallelism\n",
    "\n",
    "# ------------------------\n",
    "# Input and Pinned Memory Transfer (Prefetch + DMA)\n",
    "# ------------------------\n",
    "inputs = \"The movie was great and I really enjoyed the performances of the actors.\"\n",
    "encoding = tokenizer(inputs, return_tensors='pt', padding=True, truncation=True)\n",
    "\n",
    "# Pin memory and use non-blocking copy for async GPU memory transfer\n",
    "input_ids = encoding['input_ids'].pin_memory().to(device, non_blocking=True)\n",
    "attention_mask = encoding['attention_mask'].pin_memory().to(device, non_blocking=True)\n",
    "\n",
    "# ------------------------\n",
    "# Inference with Optimized Mode and Profiling\n",
    "# ------------------------\n",
    "with torch.inference_mode():  # Disables autograd + speeds up\n",
    "    with profile(activities=[ProfilerActivity.CPU, ProfilerActivity.CUDA], record_shapes=True) as prof:\n",
    "        with record_function(\"model_inference\"):\n",
    "            model(input_ids=input_ids, attention_mask=attention_mask)\n",
    "\n",
    "torch.cuda.synchronize()\n",
    "\n",
    "# ------------------------\n",
    "# Results\n",
    "# ------------------------\n",
    "print(prof.key_averages().table(sort_by=\"cuda_time_total\", row_limit=15))"
   ]
  },
  {
   "cell_type": "code",
   "execution_count": null,
   "id": "1a453754-f731-49a1-8374-fd4b44b3c76d",
   "metadata": {},
   "outputs": [],
   "source": []
  }
 ],
 "metadata": {
  "kernelspec": {
   "display_name": "Python 3 (ipykernel)",
   "language": "python",
   "name": "python3"
  },
  "language_info": {
   "codemirror_mode": {
    "name": "ipython",
    "version": 3
   },
   "file_extension": ".py",
   "mimetype": "text/x-python",
   "name": "python",
   "nbconvert_exporter": "python",
   "pygments_lexer": "ipython3",
   "version": "3.12.7"
  }
 },
 "nbformat": 4,
 "nbformat_minor": 5
}
